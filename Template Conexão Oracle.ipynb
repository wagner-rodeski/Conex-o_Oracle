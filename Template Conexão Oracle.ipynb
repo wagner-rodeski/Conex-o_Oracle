{
 "cells": [
  {
   "cell_type": "markdown",
   "metadata": {},
   "source": [
    "# Conexão Oracle\n",
    "* instalar módulo cx_Oracle\n",
    "    * OBS: as versões do Anaconda, Oracle Client e do cx_Oracle devem ser **todas** x32 ou x64\n",
    "* Inserir usuário e senha do BIDB\n",
    "* Ajustar script"
   ]
  },
  {
   "cell_type": "code",
   "execution_count": 1,
   "metadata": {
    "collapsed": false,
    "scrolled": true
   },
   "outputs": [
    {
     "name": "stdout",
     "output_type": "stream",
     "text": [
      "Usuário: ········\n",
      "Senha: ········\n",
      "Conectado.\n"
     ]
    }
   ],
   "source": [
    "from getpass import getpass\n",
    "from os import environ\n",
    "import sqlalchemy as sql\n",
    "from sqlalchemy.pool import QueuePool\n",
    "import pandas as pd\n",
    "import seaborn as sns\n",
    "%matplotlib inline\n",
    "\n",
    "environ[\"NLS_LANG\"] = \".AL32UTF8\"\n",
    "\n",
    "usr = getpass(prompt='Usuário: ')\n",
    "psw = getpass(prompt='Senha: ')\n",
    "url= 'oracle+cx_oracle://' + usr + ':' + psw +'@bidb12c.sicredi.net/?service_name=BIDB'\n",
    "\n",
    "engine = sql.create_engine(url, poolclass=QueuePool)\n",
    "conn = engine.connect()\n",
    "print('Conectado.')"
   ]
  },
  {
   "cell_type": "markdown",
   "metadata": {},
   "source": [
    "**Query**"
   ]
  },
  {
   "cell_type": "code",
   "execution_count": null,
   "metadata": {
    "collapsed": false
   },
   "outputs": [],
   "source": [
    "df1 = pd.read_sql_query(\"SELECT NUM_ANO_MES, AVG(ISA) ISA FROM IN_OWNER.BASE_RELACIONAMENTO GROUP BY NUM_ANO_MES\", conn)\n",
    "df2 = pd.read_sql_query(\"SELECT NUM_ANO_MES, AVG(MC_ASSOC) ISA FROM IN_OWNER.BASE_RELACIONAMENTO GROUP BY NUM_ANO_MES\", conn)"
   ]
  },
  {
   "cell_type": "markdown",
   "metadata": {},
   "source": [
    "**Encerrar sessão**"
   ]
  },
  {
   "cell_type": "code",
   "execution_count": null,
   "metadata": {
    "collapsed": true
   },
   "outputs": [],
   "source": [
    "conn.close()"
   ]
  },
  {
   "cell_type": "markdown",
   "metadata": {},
   "source": [
    "**Fechar conexão**"
   ]
  },
  {
   "cell_type": "code",
   "execution_count": null,
   "metadata": {
    "collapsed": true
   },
   "outputs": [],
   "source": [
    "engine.dispose()"
   ]
  },
  {
   "cell_type": "markdown",
   "metadata": {},
   "source": [
    "**Visualizar query (data frame)**"
   ]
  },
  {
   "cell_type": "markdown",
   "metadata": {},
   "source": [
    "Título"
   ]
  },
  {
   "cell_type": "code",
   "execution_count": null,
   "metadata": {
    "collapsed": false
   },
   "outputs": [],
   "source": [
    "df1=df1.rename(index=str,columns={\"num_ano_mes\":\"NUM_ANO_MES\",\"isa\":\"ISA\"})\n",
    "pd.read"
   ]
  },
  {
   "cell_type": "code",
   "execution_count": null,
   "metadata": {
    "collapsed": false
   },
   "outputs": [],
   "source": [
    "df2=df2.rename(index=str,columns={\"num_ano_mes\":\"NUM_ANO_MES\",\"isa\":\"MC\"})\n",
    "df2.head()"
   ]
  },
  {
   "cell_type": "code",
   "execution_count": null,
   "metadata": {
    "collapsed": false,
    "scrolled": true
   },
   "outputs": [],
   "source": [
    "df3 = pd.merge(df1, df2, how='inner', left_on='NUM_ANO_MES', right_on='NUM_ANO_MES')\n",
    "df3.head()"
   ]
  },
  {
   "cell_type": "code",
   "execution_count": null,
   "metadata": {
    "collapsed": false
   },
   "outputs": [],
   "source": [
    "sns.barplot(x=\"NUM_ANO_MES\",y=\"ISA\",data=df3,palette='viridis')"
   ]
  },
  {
   "cell_type": "code",
   "execution_count": null,
   "metadata": {
    "collapsed": false
   },
   "outputs": [],
   "source": [
    "import matplotlib.pyplot as plt\n",
    "import seaborn as sns\n",
    "import numpy as np\n",
    "\n",
    "sns.set_style(\"white\")\n",
    "\n",
    "fig, ax = plt.subplots()\n",
    "ax.plot(np.random.rand(10))\n",
    "ax2 =ax.twinx()\n",
    "ax2.plot(100*np.random.rand(10))\n",
    "sns.despine(ax=ax, right=True, left=True)\n",
    "sns.despine(ax=ax2, left=True, right=False)\n",
    "ax2.spines['right'].set_color('white')"
   ]
  },
  {
   "cell_type": "code",
   "execution_count": null,
   "metadata": {
    "collapsed": true
   },
   "outputs": [],
   "source": []
  }
 ],
 "metadata": {
  "kernelspec": {
   "display_name": "Python 3",
   "language": "python",
   "name": "python3"
  },
  "language_info": {
   "codemirror_mode": {
    "name": "ipython",
    "version": 3
   },
   "file_extension": ".py",
   "mimetype": "text/x-python",
   "name": "python",
   "nbconvert_exporter": "python",
   "pygments_lexer": "ipython3",
   "version": "3.6.0"
  }
 },
 "nbformat": 4,
 "nbformat_minor": 2
}
